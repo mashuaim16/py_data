{
 "cells": [
  {
   "cell_type": "code",
   "execution_count": 95,
   "metadata": {},
   "outputs": [],
   "source": [
    "from csv import DictReader \n",
    "from csv import reader\n",
    "data_rdr = DictReader(open('/Users/Brian/Desktop/project/data-wrangling/data/code/cleanup/mn.csv')) \n",
    "header_rdr = DictReader(open('/Users/Brian/Desktop/project/data-wrangling/data/code/cleanup/mn_headers.csv'))\n",
    "data_rows = [d for d in data_rdr]        # write the file into a list  \n",
    "header_rows = [h for h in header_rdr]"
   ]
  },
  {
   "cell_type": "code",
   "execution_count": 61,
   "metadata": {},
   "outputs": [
    {
     "name": "stdout",
     "output_type": "stream",
     "text": [
      "[OrderedDict([('', '1'), ('HH1', '1'), ('HH2', '17'), ('LN', '1'), ('MWM1', '1'), ('MWM2', '17'), ('MWM4', '1'), ('MWM5', '14'), ('MWM6D', '7'), ('MWM6M', '4'), ('MWM6Y', '2014'), ('MWM7', 'Completed'), ('MWM8', '2'), ('MWM9', '20'), ('MWM10H', '17'), ('MWM10M', '59'), ('MWM11H', '18'), ('MWM11M', '7'), ('MWB1M', '5'), ('MWB1Y', '1984'), ('MWB2', '29'), ('MWB3', 'Yes'), ('MWB4', 'Higher'), ('MWB5', '31'), ('MWB7', 'NA'), ('MMT2', 'Almost every day'), ('MMT3', 'At least once a week'), ('MMT4', 'Less than once a week'), ('MMT6', 'Yes'), ('MMT7', 'Yes'), ('MMT8', 'Almost every day'), ('MMT9', 'Yes'), ('MMT10', 'Yes'), ('MMT11', 'Almost every day'), ('MMT12', 'Yes'), ('MMT13', 'Yes'), ('MMT14', 'Almost every day'), ('MCM1', 'No'), ('MCM3', 'NA'), ('MCM4', 'NA'), ('MCM5A', 'NA'), ('MCM5B', 'NA'), ('MCM6', 'NA'), ('MCM7A', 'NA'), ('MCM7B', 'NA'), ('MCM8', 'No'), ('MCM9A', 'NA'), ('MCM9B', 'NA'), ('MCM10', '0'), ('MCM11A', 'NA'), ('MCM11B', 'NA'), ('MCM12M', 'NA'), ('MCM12Y', 'NA'), ('MDV1A', 'No'), ('MDV1B', 'No'), ('MDV1C', 'No'), ('MDV1D', 'No'), ('MDV1E', 'No'), ('MDV1F', 'No'), ('MMA1', 'Yes, currently married'), ('MMA3', 'No (Only one)'), ('MMA4', 'NA'), ('MMA5', 'NA'), ('MMA6', 'NA'), ('MMA7', 'Only once'), ('MMA8M', '9'), ('MMA8Y', '2013'), ('MMA9', 'NA'), ('MSB1', '20'), ('MSB2', 'Yes'), ('MSB3U', 'Days ago'), ('MSB3N', '0'), ('MSB4', 'No'), ('MSB5', 'Wife'), ('MSB8', 'No'), ('MSB9', 'NA'), ('MSB10', 'NA'), ('MSB13', 'NA'), ('MSB14', 'NA'), ('MSB15', '5'), ('MHA1', 'Yes'), ('MHA2', 'Yes'), ('MHA3', 'No'), ('MHA4', 'Yes'), ('MHA5', 'No'), ('MHA6', 'No'), ('MHA7', 'Yes'), ('MHA8A', 'DK'), ('MHA8B', 'Yes'), ('MHA8C', 'DK'), ('MHA9', 'Yes'), ('MHA10', 'Yes'), ('MHA11', 'No'), ('MHA12', 'Yes'), ('MHA24', 'Yes'), ('MHA25', 'Less than 12 months ago'), ('MHA26', 'Yes'), ('MHA27', 'NA'), ('MMC1', 'No'), ('MMC2', 'NA'), ('MMC3', 'NA'), ('MMC4', 'NA'), ('MTA1', 'No'), ('MTA2', 'NA'), ('MTA3', 'NA'), ('MTA4', 'NA'), ('MTA5', 'NA'), ('MTA6', 'No'), ('MTA7', 'NA'), ('MTA8A', 'NA'), ('MTA8B', 'NA'), ('MTA8C', 'NA'), ('MTA8D', 'NA'), ('MTA8E', 'NA'), ('MTA8X', 'NA'), ('MTA9', 'NA'), ('MTA10', 'No'), ('MTA11', 'NA'), ('MTA12A', 'NA'), ('MTA12B', 'NA'), ('MTA12C', 'NA'), ('MTA12X', 'NA'), ('MTA13', 'NA'), ('MTA14', 'Yes'), ('MTA15', '16'), ('MTA16', '0'), ('MTA17', 'NA'), ('TNLN', 'NA'), ('TN4', 'NA'), ('TN5', 'NA'), ('TN6', 'NA'), ('TN8', 'NA'), ('TN9', 'NA'), ('TN10', 'NA'), ('TN11', 'NA'), ('TN12_1', 'NA'), ('TN12_2', 'NA'), ('TN12_3', 'NA'), ('TN12_4', 'NA'), ('HH6', 'Urban'), ('HH7', 'Bulawayo'), ('MWDOI', '1372'), ('MWDOB', '1013'), ('MWAGE', '25-29'), ('MWDOM', '1365'), ('MWAGEM', '29'), ('MWDOBLC', 'NA'), ('MMSTATUS', 'Currently married/in union'), ('MCEB', '0'), ('MCSURV', '0'), ('MCDEAD', '0'), ('mwelevel', 'Higher'), ('mnweight', '0.403797141860459'), ('wscore', '1.60367010204171'), ('windex5', '5'), ('wscoreu', '1.27255184167736'), ('windex5u', '5'), ('wscorer', 'NA'), ('windex5r', 'NA')])]\n",
      "[OrderedDict([('Name', 'HH1'), ('Label', 'Cluster number'), ('Question', '')]), OrderedDict([('Name', 'HH2'), ('Label', 'Household number'), ('Question', '')]), OrderedDict([('Name', 'LN'), ('Label', 'Line number'), ('Question', '')]), OrderedDict([('Name', 'MWM1'), ('Label', 'Cluster number'), ('Question', '')]), OrderedDict([('Name', 'MWM2'), ('Label', 'Household number'), ('Question', '')])]\n"
     ]
    }
   ],
   "source": [
    "print (data_rows[:1])\n",
    "print (header_rows[:5])"
   ]
  },
  {
   "cell_type": "code",
   "execution_count": 65,
   "metadata": {
    "scrolled": true
   },
   "outputs": [
    {
     "name": "stdout",
     "output_type": "stream",
     "text": [
      "1909696\n"
     ]
    }
   ],
   "source": [
    "# count how many matches are there between dkey and hval  \n",
    "counting = 0\n",
    "\n",
    "for data_dict in data_rows:\n",
    "    for dkey, dval in data_dict.items():\n",
    "        for header_dict in header_rows:\n",
    "            for hkey, hval in header_dict.items():\n",
    "                if dkey == hval:\n",
    "                    counting = counting + 1\n",
    "print(counting)"
   ]
  },
  {
   "cell_type": "code",
   "execution_count": 92,
   "metadata": {},
   "outputs": [
    {
     "name": "stdout",
     "output_type": "stream",
     "text": [
      "{'Cluster number': '1', 'Household number': '17', 'Line number': '1', \"Man's line number\": '1', 'Interviewer number': '14', 'Day of interview': '7', 'Month of interview': '4', 'Year of interview': '2014', \"Result of man's interview\": 'Completed', 'Field editor': '2', 'Data entry clerk': '20', 'Start of interview - Hour': '17', 'Start of interview - Minutes': '59', 'End of interview - Hour': '18', 'End of interview - Minutes': '7', 'Ever used a mobile or non-mobile phone': 'Yes', 'Mobile or non-mobile phone usage in the last 12 months': 'Yes', 'Frequency of mobile or non-mobile usage in the past month': 'Almost every day', 'Children ever born': '0', \"Woman's line number\": '1', 'Result of interview': '1', 'Area': 'Urban', 'Region': 'Bulawayo', 'Date of interview women (CMC)': '1372', 'Date of birth of woman (CMC)': '1013', 'Age': '25-29', 'Date of marriage (CMC)': '1365', 'Age at first marriage/union': '29', 'Date of birth of first child (CMC)': '1', 'Date of birth of last child (CMC)': 'NA', 'Marital/Union status': 'Currently married/in union', 'Children surviving': '0', 'Children dead': '0', 'Respondent is circumcised': 'No', 'Age at circumcision': 'NA', 'Person performing circumcision': 'NA', 'Place of circumcision': 'NA', 'Net number': 'NA', 'Mosquito net observed': 'NA', 'Brand/type of observed net': 'NA', 'Packet number': '1', 'Education': '1', 'Language of household head': '1', \"Men's sample weight\": '1', 'Wealth index score': '1.60367010204171', 'Wealth index quintiles': '5', 'Primary sampling unit': '1', 'Stratum': '1', 'Month of birth of man': '5', 'Year of birth of man': '1984', 'Age of man': '29', 'Ever attended school': 'Yes', 'Highest level of school attended': 'Higher', 'Highest grade completed at that level': '31', 'Can read part of the sentence': 'NA', 'Frequency of reading newspaper or magazine': 'Almost every day', 'Frequency of listening to the radio': 'At least once a week', 'Frequency of watching TV': 'Less than once a week', 'Ever used a computer': 'Yes', 'Computer usage in the last 12 months': 'Yes', 'Frequency of computer usage in the last month': 'Almost every day', 'Ever used internet': 'Yes', 'Internet usage in the last 12 months': 'Yes', 'Frequency of Internet usage in the past month': 'Almost every day', 'Ever fathered any children with any women': 'No', 'Age when first child was born': 'NA', 'Any sons or daughters living with you': 'NA', 'Sons living with you': 'NA', 'Daughters living with you': 'NA', 'Any sons or daughters not living with you': 'NA', 'Sons living elsewhere': 'NA', 'Daughters living elsewhere': 'NA', 'Ever had child who later died': 'No', 'Boys dead': 'NA', 'Girls dead': 'NA', 'Same biological mother': 'NA', 'Number of women respondent fathered children with': 'NA', 'Month of last birth': 'NA', 'Year of last birth': 'NA', 'If she goes out with out telling husband: wife beating justified': 'No', 'If she neglects the children: wife beating justified': 'No', 'If she argues with husband: wife beating justified': 'No', 'If she refuses sex with husband: wife beating justified': 'No', 'If she burns the food: wife beating justified': 'No', 'Currently married or living with a man': 'Yes, currently married', 'Haveing other wives or liveing with other women as if you are married': 'No (Only one)', 'How many other wives / partners living with you': 'NA', 'Ever married or lived with a woman': 'NA', 'Marital status': 'NA', 'Married or lived with a woman once or more than once': 'Only once', 'Month of first union': '9', 'Year of first union': '2013', 'Age at first union': 'NA', 'Age at first sexual intercourse': '20', 'Condom used during first sexual intercourse': 'Yes', 'Time since last sexual intercourse (unit)': 'Days ago', 'Time since last sexual intercourse (number)': '0', 'Condom used at last sexual intercourse': 'No', 'Relationship to last sexual partner': 'Wife', 'Sex with any other person in the last 12 month': 'No', 'Condom used with prior sexual partner': 'NA', 'Relationship to prior sexual partner': 'NA', 'Sex with any other man in the last 12 months': 'NA', 'Number of sex partners in last 12 months': 'NA', 'Number of sex partners in lifetime': '5', 'Ever heard of AIDS': 'Yes', 'Can avoid AIDS virus by having one uninfected partner': 'Yes', 'Can get AIDS virus through supernatural means': 'No', 'Can avoid AIDS virus by using a condom correctly every time': 'Yes', 'Can get AIDS virus from mosquito bites': 'No', 'Can get AIDS virus by sharing food with a person who has AIDS': 'No', 'Healthy-looking person may have AIDS virus': 'Yes', 'AIDS virus from mother to child during pregnancy': 'DK', 'AIDS virus from mother to child during delivery': 'Yes', 'AIDS virus from mother to child through breastfeeding': 'DK', 'Should female teacher with AIDS virus be allowed to teach in school': 'Yes', 'Would buy fresh vegetables from shopkeeper with AIDS virus': 'Yes', 'If HH member became infected with AIDS virus, would want it to remain a secret': 'No', 'Willing to care for person with AIDS in household': 'Yes', 'Ever been tested for AIDS virus': 'Yes', 'Most recent time of testing for AIDS virus': 'Less than 12 months ago', 'Received results of AIDS virus test': 'Yes', 'Know a place to get AIDS virus test': 'NA', 'Ever tried cigarette smoking': 'No', 'Age when cigarette was smoked for the first time': 'NA', 'Currently smoking cigarettes': 'NA', 'Number of cigarettes smoked in the last 24 hours': 'NA', 'Number of days when cigarettes were smoked in past month': 'NA', 'Ever tried any smoked tobacco products other than cigarettes': 'No', 'Used any smoked tobacco products during the last month': 'NA', 'Type of smoked tobacco product: Cigars': 'NA', 'Type of smoked tobacco product: Water pipe': 'NA', 'Type of smoked tobacco product: Cigarillos': 'NA', 'Type of smoked tobacco product: Pipe': 'NA', 'Type of smoked tobacco product: Other': 'NA', 'Number of days when tobacco products where smoked in past month': 'NA', 'Ever tried any form of smokeless tobacco products': 'No', 'Used any smokeless tobacco products during the last month': 'NA', 'Type of smokeless tobacco product used: Chewing tobacco': 'NA', 'Type of smokeless tobacco product used: Snuff': 'NA', 'Type of smokeless tobacco product used: Dip': 'NA', 'Type of smokeless tobacco product used: Other': 'NA', 'Number of days when smokeless tobacco products where used in past month': 'NA', 'Ever drunk alcohol': 'Yes', 'Age when alcohol was used for the first time': '16', 'Number of days when at least one drink of alcohol was used in past month': '0', 'Number of drinks usually consumed': 'NA', 'Months ago net obtained': 'NA', 'Net treated with an insecticide when obtained': 'NA', 'Net soaked or dipped since obtained': 'NA', 'Months ago net soaked or dipped': 'NA', 'Persons slept under mosquito net last night': 'NA', 'Person 1 who slept under net': 'NA', 'Person 2 who slept under net': 'NA', 'Person 3 who slept under net': 'NA', 'Person 4 who slept under net': 'NA'}\n"
     ]
    }
   ],
   "source": [
    "new_rows = [] # create a new list to store the cleaned/modified data\n",
    "\n",
    "for data_dict in data_rows:\n",
    "    new_row = {} # create a dictionary for each record, row\n",
    "    for dkey, dval in data_dict.items():\n",
    "        for header_dict in header_rows:\n",
    "            if dkey in header_dict.values():     # check the values of the header dictinary only\n",
    "                new_row[header_dict.get('Label')] = dval   # for each match, store it in new_row {},change the key of the dictionary.\n",
    "    new_rows.append(new_row) # for each record, store the new cleaned record\n",
    "\n",
    "print (new_rows[0]) # check the first row\n"
   ]
  },
  {
   "cell_type": "code",
   "execution_count": 81,
   "metadata": {},
   "outputs": [],
   "source": [
    "# method 2 : using 'zip' method to fix the tag/title"
   ]
  },
  {
   "cell_type": "code",
   "execution_count": 107,
   "metadata": {},
   "outputs": [
    {
     "name": "stdout",
     "output_type": "stream",
     "text": [
      "159\n",
      "210\n",
      "[['Name', 'Label', 'Question'], ['HH1', 'Cluster number', ''], ['HH2', 'Household number', '']]\n"
     ]
    }
   ],
   "source": [
    "data_rdr = reader(open('/Users/Brian/Desktop/project/data-wrangling/data/code/cleanup/mn.csv')) \n",
    "header_rdr = reader(open('/Users/Brian/Desktop/project/data-wrangling/data/code/cleanup/mn_headers.csv'))\n",
    "data_rows = [d for d in data_rdr]        # write the file into a list  \n",
    "header_rows = [h for h in header_rdr]  # list creation\n",
    "\n",
    "print (len(data_rows[0]))\n",
    "print (len(header_rows))\n",
    "print (header_rows[:3])"
   ]
  },
  {
   "cell_type": "code",
   "execution_count": 97,
   "metadata": {},
   "outputs": [],
   "source": [
    "# different number of items from the two dataset, need to find a way to remove bad rows"
   ]
  },
  {
   "cell_type": "code",
   "execution_count": 103,
   "metadata": {},
   "outputs": [
    {
     "name": "stdout",
     "output_type": "stream",
     "text": [
      "150\n"
     ]
    }
   ],
   "source": [
    "bad_rows = []\n",
    "\n",
    "for h in header_rows:      # find all bad rows\n",
    "    if h[0] not in data_rows[0]:\n",
    "        bad_rows.append(h)\n",
    "\n",
    "for h in bad_rows:\n",
    "    header_rows.remove(h) # delete all bad rows\n",
    "\n",
    "print (len(header_rows))"
   ]
  },
  {
   "cell_type": "code",
   "execution_count": 104,
   "metadata": {},
   "outputs": [],
   "source": [
    "# why data_rows have 9 more items 159 VS 150, find all mismatches"
   ]
  },
  {
   "cell_type": "code",
   "execution_count": 108,
   "metadata": {},
   "outputs": [],
   "source": [
    "all_short_headers = [h[0] for h in header_rows] # create a list"
   ]
  },
  {
   "cell_type": "code",
   "execution_count": 110,
   "metadata": {},
   "outputs": [
    {
     "name": "stdout",
     "output_type": "stream",
     "text": [
      "mismatch \n",
      "mismatch MDV1F\n",
      "mismatch MTA8E\n",
      "mismatch mwelevel\n",
      "mismatch mnweight\n",
      "mismatch wscoreu\n",
      "mismatch windex5u\n",
      "mismatch wscorer\n",
      "mismatch windex5r\n"
     ]
    }
   ],
   "source": [
    "for h in data_rows[0]:\n",
    "    if h not in all_short_headers:\n",
    "        print ('mismatch' , h)"
   ]
  },
  {
   "cell_type": "code",
   "execution_count": null,
   "metadata": {},
   "outputs": [],
   "source": []
  }
 ],
 "metadata": {
  "kernelspec": {
   "display_name": "Python 3",
   "language": "python",
   "name": "python3"
  },
  "language_info": {
   "codemirror_mode": {
    "name": "ipython",
    "version": 3
   },
   "file_extension": ".py",
   "mimetype": "text/x-python",
   "name": "python",
   "nbconvert_exporter": "python",
   "pygments_lexer": "ipython3",
   "version": "3.7.3"
  }
 },
 "nbformat": 4,
 "nbformat_minor": 2
}
