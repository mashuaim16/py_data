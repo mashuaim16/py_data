{
 "cells": [
  {
   "cell_type": "code",
   "execution_count": 1,
   "metadata": {},
   "outputs": [],
   "source": [
    "from csv import DictReader\n",
    "# Part (1) switch short title to long title for a dataset\n"
   ]
  },
  {
   "cell_type": "code",
   "execution_count": 2,
   "metadata": {},
   "outputs": [],
   "source": [
    "data_rdr = DictReader(open('/Users/Brian/desktop/project/data-wrangling/data/code/cleanup/mn.csv'))\n",
    "header_rdr = DictReader(open('/Users/Brian/desktop/project/data-wrangling/data/code/cleanup/mn_headers.csv'))"
   ]
  },
  {
   "cell_type": "code",
   "execution_count": 3,
   "metadata": {},
   "outputs": [],
   "source": [
    "data_rows = [d for d in data_rdr]\n",
    "header_rows = [h for h in header_rdr] # 列表生成式"
   ]
  },
  {
   "cell_type": "code",
   "execution_count": 4,
   "metadata": {},
   "outputs": [
    {
     "name": "stdout",
     "output_type": "stream",
     "text": [
      "[OrderedDict([('', '1'), ('HH1', '1'), ('HH2', '17'), ('LN', '1'), ('MWM1', '1'), ('MWM2', '17'), ('MWM4', '1'), ('MWM5', '14'), ('MWM6D', '7'), ('MWM6M', '4'), ('MWM6Y', '2014'), ('MWM7', 'Completed'), ('MWM8', '2'), ('MWM9', '20'), ('MWM10H', '17'), ('MWM10M', '59'), ('MWM11H', '18'), ('MWM11M', '7'), ('MWB1M', '5'), ('MWB1Y', '1984'), ('MWB2', '29'), ('MWB3', 'Yes'), ('MWB4', 'Higher'), ('MWB5', '31'), ('MWB7', 'NA'), ('MMT2', 'Almost every day'), ('MMT3', 'At least once a week'), ('MMT4', 'Less than once a week'), ('MMT6', 'Yes'), ('MMT7', 'Yes'), ('MMT8', 'Almost every day'), ('MMT9', 'Yes'), ('MMT10', 'Yes'), ('MMT11', 'Almost every day'), ('MMT12', 'Yes'), ('MMT13', 'Yes'), ('MMT14', 'Almost every day'), ('MCM1', 'No'), ('MCM3', 'NA'), ('MCM4', 'NA'), ('MCM5A', 'NA'), ('MCM5B', 'NA'), ('MCM6', 'NA'), ('MCM7A', 'NA'), ('MCM7B', 'NA'), ('MCM8', 'No'), ('MCM9A', 'NA'), ('MCM9B', 'NA'), ('MCM10', '0'), ('MCM11A', 'NA'), ('MCM11B', 'NA'), ('MCM12M', 'NA'), ('MCM12Y', 'NA'), ('MDV1A', 'No'), ('MDV1B', 'No'), ('MDV1C', 'No'), ('MDV1D', 'No'), ('MDV1E', 'No'), ('MDV1F', 'No'), ('MMA1', 'Yes, currently married'), ('MMA3', 'No (Only one)'), ('MMA4', 'NA'), ('MMA5', 'NA'), ('MMA6', 'NA'), ('MMA7', 'Only once'), ('MMA8M', '9'), ('MMA8Y', '2013'), ('MMA9', 'NA'), ('MSB1', '20'), ('MSB2', 'Yes'), ('MSB3U', 'Days ago'), ('MSB3N', '0'), ('MSB4', 'No'), ('MSB5', 'Wife'), ('MSB8', 'No'), ('MSB9', 'NA'), ('MSB10', 'NA'), ('MSB13', 'NA'), ('MSB14', 'NA'), ('MSB15', '5'), ('MHA1', 'Yes'), ('MHA2', 'Yes'), ('MHA3', 'No'), ('MHA4', 'Yes'), ('MHA5', 'No'), ('MHA6', 'No'), ('MHA7', 'Yes'), ('MHA8A', 'DK'), ('MHA8B', 'Yes'), ('MHA8C', 'DK'), ('MHA9', 'Yes'), ('MHA10', 'Yes'), ('MHA11', 'No'), ('MHA12', 'Yes'), ('MHA24', 'Yes'), ('MHA25', 'Less than 12 months ago'), ('MHA26', 'Yes'), ('MHA27', 'NA'), ('MMC1', 'No'), ('MMC2', 'NA'), ('MMC3', 'NA'), ('MMC4', 'NA'), ('MTA1', 'No'), ('MTA2', 'NA'), ('MTA3', 'NA'), ('MTA4', 'NA'), ('MTA5', 'NA'), ('MTA6', 'No'), ('MTA7', 'NA'), ('MTA8A', 'NA'), ('MTA8B', 'NA'), ('MTA8C', 'NA'), ('MTA8D', 'NA'), ('MTA8E', 'NA'), ('MTA8X', 'NA'), ('MTA9', 'NA'), ('MTA10', 'No'), ('MTA11', 'NA'), ('MTA12A', 'NA'), ('MTA12B', 'NA'), ('MTA12C', 'NA'), ('MTA12X', 'NA'), ('MTA13', 'NA'), ('MTA14', 'Yes'), ('MTA15', '16'), ('MTA16', '0'), ('MTA17', 'NA'), ('TNLN', 'NA'), ('TN4', 'NA'), ('TN5', 'NA'), ('TN6', 'NA'), ('TN8', 'NA'), ('TN9', 'NA'), ('TN10', 'NA'), ('TN11', 'NA'), ('TN12_1', 'NA'), ('TN12_2', 'NA'), ('TN12_3', 'NA'), ('TN12_4', 'NA'), ('HH6', 'Urban'), ('HH7', 'Bulawayo'), ('MWDOI', '1372'), ('MWDOB', '1013'), ('MWAGE', '25-29'), ('MWDOM', '1365'), ('MWAGEM', '29'), ('MWDOBLC', 'NA'), ('MMSTATUS', 'Currently married/in union'), ('MCEB', '0'), ('MCSURV', '0'), ('MCDEAD', '0'), ('mwelevel', 'Higher'), ('mnweight', '0.403797141860459'), ('wscore', '1.60367010204171'), ('windex5', '5'), ('wscoreu', '1.27255184167736'), ('windex5u', '5'), ('wscorer', 'NA'), ('windex5r', 'NA')])]\n",
      "[OrderedDict([('Name', 'HH1'), ('Label', 'Cluster number'), ('Question', '')])]\n"
     ]
    }
   ],
   "source": [
    "print (data_rows [:1]) # slicing in python\n",
    "print (header_rows [:1])"
   ]
  },
  {
   "cell_type": "code",
   "execution_count": 9,
   "metadata": {},
   "outputs": [
    {
     "name": "stdout",
     "output_type": "stream",
     "text": [
      "1909696\n"
     ]
    }
   ],
   "source": [
    "# match long title and short title\n",
    "\n",
    "counts = 0\n",
    "\n",
    "for data_dict in data_rows:\n",
    "    for dkey, dval in data_dict.items():  # dictionary .items() method\n",
    "        for header_dict in header_rows:\n",
    "            for hkey, hval in header_dict.items():\n",
    "                if dkey == hval:\n",
    "                    counts += 1\n",
    "print (counts)\n"
   ]
  },
  {
   "cell_type": "code",
   "execution_count": 12,
   "metadata": {},
   "outputs": [],
   "source": [
    "# there are 1909696 matches"
   ]
  },
  {
   "cell_type": "code",
   "execution_count": 13,
   "metadata": {},
   "outputs": [],
   "source": [
    "#replace short title with long title while matched\n",
    "new_rows = [] # create an empty list to store the info\n",
    "\n",
    "for data_dict in data_rows:\n",
    "    new_row = {}\n",
    "    for dkey, dval in data_dict.items():\n",
    "        for header_dict in header_rows:\n",
    "            if dkey in header_dict.values(): # dictionary .values() method\n",
    "                new_row[header_dict.get('label')] = dval     #'label' as new dkey, dval as dval\n",
    "    new_rows.append(new_row)\n",
    "\n",
    "    new_rows[0]"
   ]
  },
  {
   "cell_type": "code",
   "execution_count": null,
   "metadata": {},
   "outputs": [],
   "source": [
    "# clean-up method 2: combine question and answer\n",
    "\n",
    "from csv import reader\n",
    "\n",
    "data_rdr = Reader(open('/Users/Brian/desktop/project/data-wrangling/data/code/cleanup/mn.csv'))\n",
    "header_rdr = Reader(open('/Users/Brian/desktop/project/data-wrangling/data/code/cleanup/mn_headers.csv'))\n",
    "\n",
    "data_rows = [d for d in data_rdr]\n",
    "header_rows = [h for h in header_rdr]\n",
    "\n",
    "print (len(data_rows[0]))"
   ]
  }
 ],
 "metadata": {
  "kernelspec": {
   "display_name": "Python 3",
   "language": "python",
   "name": "python3"
  },
  "language_info": {
   "codemirror_mode": {
    "name": "ipython",
    "version": 3
   },
   "file_extension": ".py",
   "mimetype": "text/x-python",
   "name": "python",
   "nbconvert_exporter": "python",
   "pygments_lexer": "ipython3",
   "version": "3.7.3"
  }
 },
 "nbformat": 4,
 "nbformat_minor": 2
}
